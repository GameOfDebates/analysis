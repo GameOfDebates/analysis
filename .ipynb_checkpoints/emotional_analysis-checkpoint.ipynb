{
 "cells": [
  {
   "cell_type": "code",
   "execution_count": 7,
   "metadata": {
    "collapsed": false
   },
   "outputs": [
    {
     "name": "stdout",
     "output_type": "stream",
     "text": [
      "<_io.TextIOWrapper name='transcripts/Democrats/dem-1-17-2016-wl.txt' mode='r' encoding='UTF-8'>\n",
      "Processing text:  <_io.TextIOWrapper name='transcripts/Democrats/dem-1-17-2016-wl.txt' mode='r' encoding='UTF-8'>\n",
      "\n"
     ]
    },
    {
     "ename": "AttributeError",
     "evalue": "'AlchemyAPI' object has no attribute 'emotion'",
     "output_type": "error",
     "traceback": [
      "\u001b[0;31m---------------------------------------------------------------------------\u001b[0m",
      "\u001b[0;31mAttributeError\u001b[0m                            Traceback (most recent call last)",
      "\u001b[0;32m<ipython-input-7-200df0dcf158>\u001b[0m in \u001b[0;36m<module>\u001b[0;34m()\u001b[0m\n\u001b[1;32m     11\u001b[0m \u001b[0mprint\u001b[0m\u001b[0;34m(\u001b[0m\u001b[0;34m''\u001b[0m\u001b[0;34m)\u001b[0m\u001b[0;34m\u001b[0m\u001b[0m\n\u001b[1;32m     12\u001b[0m \u001b[0;34m\u001b[0m\u001b[0m\n\u001b[0;32m---> 13\u001b[0;31m \u001b[0mresponse\u001b[0m \u001b[0;34m=\u001b[0m \u001b[0malchemyapi\u001b[0m\u001b[0;34m.\u001b[0m\u001b[0memotion\u001b[0m\u001b[0;34m(\u001b[0m\u001b[0;34m'text'\u001b[0m\u001b[0;34m,\u001b[0m \u001b[0mtext\u001b[0m\u001b[0;34m)\u001b[0m\u001b[0;34m\u001b[0m\u001b[0m\n\u001b[0m\u001b[1;32m     14\u001b[0m \u001b[0;34m\u001b[0m\u001b[0m\n\u001b[1;32m     15\u001b[0m \u001b[0;32mif\u001b[0m \u001b[0mresponse\u001b[0m\u001b[0;34m[\u001b[0m\u001b[0;34m'status'\u001b[0m\u001b[0;34m]\u001b[0m \u001b[0;34m==\u001b[0m \u001b[0;34m'OK'\u001b[0m\u001b[0;34m:\u001b[0m\u001b[0;34m\u001b[0m\u001b[0m\n",
      "\u001b[0;31mAttributeError\u001b[0m: 'AlchemyAPI' object has no attribute 'emotion'"
     ]
    }
   ],
   "source": [
    "from alchemyapi import AlchemyAPI\n",
    "import json\n",
    "import numpy as np\n",
    "\n",
    "text = open(\"transcripts/Democrats/dem-1-17-2016-wl.txt\")\n",
    "print(text)\n",
    "\n",
    "alchemyapi = AlchemyAPI()\n",
    "\n",
    "print('Processing text: ', text)\n",
    "print('')\n",
    "\n",
    "response = alchemyapi.sentiment('text', text)\n",
    "\n",
    "if response['status'] == 'OK':\n",
    "    print('## Response Object ##')\n",
    "    print(json.dumps(response, indent=4))\n",
    "\n",
    "    print('')\n",
    "    print('## Sentiment ##')\n",
    "    print('type: ', response['docSentiment']['type'])\n",
    "\n",
    "    if 'score' in response['docSentiment']:\n",
    "        print('score: ', response['docSentiment']['score'])\n",
    "else:\n",
    "    print('Error in sentiment analysis call: ',\n",
    "          response['statusInfo'])"
   ]
  },
  {
   "cell_type": "code",
   "execution_count": null,
   "metadata": {
    "collapsed": true
   },
   "outputs": [],
   "source": []
  }
 ],
 "metadata": {
  "kernelspec": {
   "display_name": "Python 3",
   "language": "python",
   "name": "python3"
  },
  "language_info": {
   "codemirror_mode": {
    "name": "ipython",
    "version": 3
   },
   "file_extension": ".py",
   "mimetype": "text/x-python",
   "name": "python",
   "nbconvert_exporter": "python",
   "pygments_lexer": "ipython3",
   "version": "3.4.3"
  }
 },
 "nbformat": 4,
 "nbformat_minor": 0
}
