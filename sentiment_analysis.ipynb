{
 "cells": [
  {
   "cell_type": "code",
   "execution_count": 43,
   "metadata": {
    "collapsed": false
   },
   "outputs": [],
   "source": [
    "from alchemyapi import AlchemyAPI\n",
    "import json\n",
    "import sys\n",
    "import os\n",
    "\n",
    "#transcript = sys.argv[1]\n",
    "\n",
    "def getnames():\n",
    "    with open(\"transcripts/Democrats/dem-2-4-2016.txt\", 'r') as t:\n",
    "        names = []\n",
    "        for line in t:\n",
    "            for word in line.split():\n",
    "                if word.isupper():\n",
    "                    if ':' in word:\n",
    "                        if word not in names:\n",
    "                            names.append(word)\n",
    "    return names\n",
    "\n",
    "def gettexts(names):\n",
    "    texts = [\"\"] * 15\n",
    "    for i in range(len(names)):\n",
    "        with open(\"transcripts/Democrats/dem-2-4-2016.txt\", 'r') as t:\n",
    "            for line in t:\n",
    "                if line.find(names[i]) > -1:\n",
    "                    texts[i] += line\n",
    "                else:\n",
    "                    if not any(name in line for name in names):\n",
    "                        texts[i] += line\n",
    "    return texts\n",
    "\n",
    "                \n",
    "def do_analysis(names, texts):\n",
    "    alchemyapi = AlchemyAPI()\n",
    "\n",
    "    path = 'transcripts/Democrats/dem-2-4-2016.txt'\n",
    "    file_name = str(os.path.splitext(path)[0]) + '_sentiment.txt'\n",
    "    f = open(file_name, 'w')\n",
    "\n",
    "    for i in range(len(names)):\n",
    "        response = alchemyapi.sentiment_targeted('text', texts[i], 'healthcare')\n",
    "\n",
    "        if response['status'] == 'OK':\n",
    "            f.write(names[i] + ' Sentiment \\n')\n",
    "            f.write('type: ' + str(response['docSentiment']['type']) + '\\n')\n",
    "\n",
    "            if 'score' in response['docSentiment']:\n",
    "                f.write('score: ' + str(response['docSentiment']['score']) + '\\n \\n')\n",
    "        else:\n",
    "            print('Error in sentiment analysis call: ',\n",
    "                  response['statusInfo'])\n",
    "\n",
    "names = getnames()\n",
    "texts = gettexts(names)\n",
    "do_analysis(names, texts)"
   ]
  },
  {
   "cell_type": "code",
   "execution_count": null,
   "metadata": {
    "collapsed": true
   },
   "outputs": [],
   "source": []
  }
 ],
 "metadata": {
  "kernelspec": {
   "display_name": "Python 3",
   "language": "python",
   "name": "python3"
  },
  "language_info": {
   "codemirror_mode": {
    "name": "ipython",
    "version": 3
   },
   "file_extension": ".py",
   "mimetype": "text/x-python",
   "name": "python",
   "nbconvert_exporter": "python",
   "pygments_lexer": "ipython3",
   "version": "3.4.3"
  }
 },
 "nbformat": 4,
 "nbformat_minor": 0
}
