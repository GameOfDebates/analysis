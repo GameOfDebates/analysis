{
 "cells": [
  {
   "cell_type": "code",
   "execution_count": 126,
   "metadata": {
    "collapsed": false
   },
   "outputs": [
    {
     "name": "stdout",
     "output_type": "stream",
     "text": [
      "Error in sentiment analysis call:  cannot-locate-keyphrase\n",
      "Error in sentiment analysis call:  cannot-locate-keyphrase\n",
      "Error in sentiment analysis call:  cannot-locate-keyphrase\n",
      "Error in sentiment analysis call:  cannot-locate-keyphrase\n",
      "Error in sentiment analysis call:  cannot-locate-keyphrase\n",
      "Error in sentiment analysis call:  cannot-locate-keyphrase\n",
      "Error in sentiment analysis call:  cannot-locate-keyphrase\n",
      "Error in sentiment analysis call:  cannot-locate-keyphrase\n",
      "Error in sentiment analysis call:  cannot-locate-keyphrase\n",
      "Error in sentiment analysis call:  cannot-locate-keyphrase\n",
      "Error in sentiment analysis call:  cannot-locate-keyphrase\n",
      "Error in sentiment analysis call:  cannot-locate-keyphrase\n",
      "Error in sentiment analysis call:  cannot-locate-keyphrase\n",
      "Error in sentiment analysis call:  cannot-locate-keyphrase\n",
      "Error in sentiment analysis call:  cannot-locate-keyphrase\n",
      "Error in sentiment analysis call:  cannot-locate-keyphrase\n",
      "Error in sentiment analysis call:  cannot-locate-keyphrase\n",
      "Error in sentiment analysis call:  cannot-locate-keyphrase\n",
      "Error in sentiment analysis call:  cannot-locate-keyphrase\n",
      "Error in sentiment analysis call:  cannot-locate-keyphrase\n",
      "Error in sentiment analysis call:  cannot-locate-keyphrase\n",
      "Error in sentiment analysis call:  cannot-locate-keyphrase\n",
      "Error in sentiment analysis call:  cannot-locate-keyphrase\n",
      "Error in sentiment analysis call:  cannot-locate-keyphrase\n",
      "Error in sentiment analysis call:  cannot-locate-keyphrase\n",
      "Error in sentiment analysis call:  cannot-locate-keyphrase\n"
     ]
    }
   ],
   "source": [
    "from alchemyapi import AlchemyAPI\n",
    "import json\n",
    "import sys\n",
    "import os\n",
    "import csv\n",
    "from os.path import basename\n",
    "\n",
    "def getnames():\n",
    "    with open(\"transcripts/Republicans/rep-12-15-2015.txt\", 'r') as t:\n",
    "        names = []\n",
    "        for line in t:\n",
    "            for word in line.split():\n",
    "                if word.isupper():\n",
    "                    if ':' in word:\n",
    "                        if word not in names:\n",
    "                            names.append(word)\n",
    "    return names\n",
    "\n",
    "def gettexts(names):\n",
    "    texts = [\"\"] * 25\n",
    "    for i in range(len(names)):\n",
    "        with open(\"transcripts/Republicans/rep-12-15-2015.txt\", 'r') as t:\n",
    "            for line in t:\n",
    "                if line.find(names[i]) > -1:\n",
    "                    texts[i] += line\n",
    "                else:\n",
    "                    if not any(name in line for name in names):\n",
    "                        texts[i] += line\n",
    "    return texts\n",
    "\n",
    "                \n",
    "def do_analysis(names, texts):\n",
    "    alchemyapi = AlchemyAPI()\n",
    "\n",
    "    base=os.path.basename('transcripts/Republicans/rep-12-15-2015.txt')\n",
    "    debate_name = os.path.splitext(base)[0]\n",
    "\n",
    "    file_name = 'data/targeted sentiments/Republican/' + str(debate_name) + '_sentiment.txt'\n",
    "    f = open(file_name, 'w')\n",
    "\n",
    "    filepath = \"data/topics/Republican Debates_Top Three Topics.csv\"\n",
    "    all_topics = csv.DictReader(open(filepath, \"r\"))\n",
    "    dt_1 = []\n",
    "\n",
    "    for row in all_topics:\n",
    "        dt_1.append(row[debate_name])\n",
    "    dt_2 = [x.split('\\'') for x in dt_1]\n",
    "    dt_3 = [y  for x in dt_2[0] for y in x.split(',')]\n",
    "    \n",
    "    for i in range(len(names)):\n",
    "        for j in range(3):\n",
    "            topic = [y  for x in dt_2[j] for y in x.split(',')]\n",
    "            response = alchemyapi.sentiment_targeted('text', texts[i], topic[:(len(topic)-1)])\n",
    "            if response['status'] == 'OK':\n",
    "                f.write(topic[len(topic)-1] + ':\\n')\n",
    "                f.write(names[i] + ' Sentiment \\n')\n",
    "                f.write('type: ' + str(response['docSentiment']['type']) + '\\n')\n",
    "\n",
    "                if 'score' in response['docSentiment']:\n",
    "                    f.write('score: ' + str(response['docSentiment']['score']) + '\\n \\n')\n",
    "            else:\n",
    "                print('Error in sentiment analysis call: ',\n",
    "                      response['statusInfo'])\n",
    "\n",
    "names = getnames()\n",
    "texts = gettexts(names)\n",
    "do_analysis(names, texts)"
   ]
  },
  {
   "cell_type": "code",
   "execution_count": null,
   "metadata": {
    "collapsed": true
   },
   "outputs": [],
   "source": []
  }
 ],
 "metadata": {
  "kernelspec": {
   "display_name": "Python 3",
   "language": "python",
   "name": "python3"
  },
  "language_info": {
   "codemirror_mode": {
    "name": "ipython",
    "version": 3
   },
   "file_extension": ".py",
   "mimetype": "text/x-python",
   "name": "python",
   "nbconvert_exporter": "python",
   "pygments_lexer": "ipython3",
   "version": "3.4.3"
  }
 },
 "nbformat": 4,
 "nbformat_minor": 0
}
